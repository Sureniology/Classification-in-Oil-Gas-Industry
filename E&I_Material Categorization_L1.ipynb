{
 "cells": [
  {
   "cell_type": "code",
   "execution_count": 1,
   "metadata": {},
   "outputs": [],
   "source": [
    "import numpy as np\n",
    "import pandas as pd\n",
    "from sklearn.feature_extraction.text import CountVectorizer\n",
    "from sklearn.feature_extraction.text import TfidfTransformer\n",
    "import nltk\n",
    "#nltk.download()\n"
   ]
  },
  {
   "cell_type": "code",
   "execution_count": 33,
   "metadata": {},
   "outputs": [],
   "source": [
    "Data = pd.read_csv(\"Train_E&I_L0.csv\", sep='|' , delimiter=',' ,encoding='latin-1')"
   ]
  },
  {
   "cell_type": "code",
   "execution_count": 34,
   "metadata": {},
   "outputs": [],
   "source": [
    "col = ['Material/Service Description','I06: Material Group','L0','L1','L2']\n",
    "Train_data = Data[col]\n",
    "Train_data.rename(columns = {'Material/Service Description' : 'Desc', 'I06: Material Group' : 'MG'}, inplace = True)\n",
    "Train_data.head()"
   ]
  },
  {
   "cell_type": "code",
   "execution_count": 41,
   "metadata": {},
   "outputs": [],
   "source": [
    "TrainData = Train_data.loc[Train_data.L1 != 'NON']"
   ]
  },
  {
   "cell_type": "code",
   "execution_count": 43,
   "metadata": {},
   "outputs": [
    {
     "data": {
      "text/plain": [
       "Electrical         2072\n",
       "Instrumentation    1734\n",
       "E&I Bulk           1524\n",
       "Name: L1, dtype: int64"
      ]
     },
     "execution_count": 43,
     "metadata": {},
     "output_type": "execute_result"
    }
   ],
   "source": [
    "TrainData[\"L1\"].value_counts()\n",
    "#TrainData[\"L2\"].value_counts()"
   ]
  },
  {
   "cell_type": "code",
   "execution_count": 44,
   "metadata": {},
   "outputs": [
    {
     "name": "stderr",
     "output_type": "stream",
     "text": [
      "C:\\Users\\user\\AppData\\Roaming\\Python\\Python37\\site-packages\\ipykernel_launcher.py:1: SettingWithCopyWarning: \n",
      "A value is trying to be set on a copy of a slice from a DataFrame.\n",
      "Try using .loc[row_indexer,col_indexer] = value instead\n",
      "\n",
      "See the caveats in the documentation: http://pandas.pydata.org/pandas-docs/stable/indexing.html#indexing-view-versus-copy\n",
      "  \"\"\"Entry point for launching an IPython kernel.\n"
     ]
    }
   ],
   "source": [
    "TrainData['Desc'] = TrainData['Desc'].astype(str)"
   ]
  },
  {
   "cell_type": "code",
   "execution_count": 45,
   "metadata": {},
   "outputs": [],
   "source": [
    "import re\n",
    "def clean_str(string):\n",
    "    string = re.sub(r\"\\n\",\"\", string)\n",
    "    string = re.sub(r\"\\r\", \"\", string)\n",
    "    #string = re.sub(r\"[0-9]\",\"digit\", string)\n",
    "    string = re.sub(r\"\\'\", \" \", string)\n",
    "    string = re.sub(r\"\\\"\", \" \", string)\n",
    "    string = re.sub(r'\\(.*?\\)', '', string)\n",
    "    string = re.sub(r\"/\", \" \", string)\n",
    "    string = re.sub(r\":\", \" \", string)\n",
    "    string = re.sub(r\"-\", \" \", string)\n",
    "    string = re.sub(r\",\", \" \", string)\n",
    "    string = re.sub(r\"\\+\", \" \", string)\n",
    "    string = re.sub(r\"&\",\" \", string)\n",
    "    string = re.sub(r\"#\",\" \", string)\n",
    "    string = re.sub(r\"\\.\",\" \", string)\n",
    "    string = re.sub(r\"\\b\\w+\\d+\\b\",\" \", string)\n",
    "    string = re.sub(r\"\\b\\d+\\w+\\b\",\" \", string)\n",
    "    string = re.sub(r\"\\b\\w+\\d+\\w+\\b\",\" \", string)\n",
    "    string = re.sub(r\"[0-9]\",\"\", string)\n",
    "    string = re.sub(r\"\\\\b[A-Za-z] \\\\b|\\\\b [A-Za-z]\\\\b\", ' ', string)\n",
    "    string = re.sub(r'\\b\\w\\b', '', string)\n",
    "    string = re.sub(r'\\b\\w\\w\\b', '', string)\n",
    "    string = re.sub(r'\" \"', '', string)\n",
    "    string = re.sub(' +', ' ', string)\n",
    "    string = re.sub(r\"[^\\w]\",\" \", string)\n",
    "    #string = re.sub('cons\\s', \"consumables \" \" \", str)\n",
    "    return string.strip().lower()\n"
   ]
  },
  {
   "cell_type": "code",
   "execution_count": 47,
   "metadata": {},
   "outputs": [],
   "source": [
    "def replace_str(string):\n",
    "    string = re.sub(\"cons\\s\", \"consumables \" \" \", string)\n",
    "    string = re.sub(\"chem\\s\", \"chemicals \" \" \", string)\n",
    "    string = re.sub(\"geotech\\s\", \"geotechnical\" \" \", string)\n",
    "    string = re.sub(\"test\\s\", \"testing \" \" \", string)\n",
    "    string = re.sub(\"inst\\s\", \"instrument \" \" \", string)\n",
    "    string = re.sub(\"transport\\s\", \"transportation \" \" \", string)\n",
    "    string = re.sub(\"rig\\s\", \"rigging \" \" \", string)\n",
    "    string = re.sub(\"lift\\s\", \"lifting \" \" \", string)\n",
    "    string = re.sub(\"cables\\s\", \"cable  \" \" \",     string)\n",
    "    string = re.sub(\"fittin\\s\", \"fittings \" \" \", string)\n",
    "    string = re.sub(\"peri\\s\", \"peripherals \" \" \", string)\n",
    "    string = re.sub(r'\" \"', '', string)\n",
    "   \n",
    "    return string.strip().lower()"
   ]
  },
  {
   "cell_type": "code",
   "execution_count": 46,
   "metadata": {},
   "outputs": [
    {
     "name": "stderr",
     "output_type": "stream",
     "text": [
      "C:\\Users\\user\\AppData\\Roaming\\Python\\Python37\\site-packages\\ipykernel_launcher.py:1: SettingWithCopyWarning: \n",
      "A value is trying to be set on a copy of a slice from a DataFrame.\n",
      "Try using .loc[row_indexer,col_indexer] = value instead\n",
      "\n",
      "See the caveats in the documentation: http://pandas.pydata.org/pandas-docs/stable/indexing.html#indexing-view-versus-copy\n",
      "  \"\"\"Entry point for launching an IPython kernel.\n"
     ]
    }
   ],
   "source": [
    "TrainData['Feature'] = TrainData['Desc'].apply(lambda x: clean_str(x))"
   ]
  },
  {
   "cell_type": "code",
   "execution_count": 48,
   "metadata": {},
   "outputs": [
    {
     "name": "stderr",
     "output_type": "stream",
     "text": [
      "C:\\Users\\user\\AppData\\Roaming\\Python\\Python37\\site-packages\\ipykernel_launcher.py:1: SettingWithCopyWarning: \n",
      "A value is trying to be set on a copy of a slice from a DataFrame.\n",
      "Try using .loc[row_indexer,col_indexer] = value instead\n",
      "\n",
      "See the caveats in the documentation: http://pandas.pydata.org/pandas-docs/stable/indexing.html#indexing-view-versus-copy\n",
      "  \"\"\"Entry point for launching an IPython kernel.\n"
     ]
    }
   ],
   "source": [
    "TrainData['Feature'] = TrainData['Feature'].apply(replace_str)"
   ]
  },
  {
   "cell_type": "code",
   "execution_count": 49,
   "metadata": {},
   "outputs": [
    {
     "data": {
      "text/html": [
       "<div>\n",
       "<style scoped>\n",
       "    .dataframe tbody tr th:only-of-type {\n",
       "        vertical-align: middle;\n",
       "    }\n",
       "\n",
       "    .dataframe tbody tr th {\n",
       "        vertical-align: top;\n",
       "    }\n",
       "\n",
       "    .dataframe thead th {\n",
       "        text-align: right;\n",
       "    }\n",
       "</style>\n",
       "<table border=\"1\" class=\"dataframe\">\n",
       "  <thead>\n",
       "    <tr style=\"text-align: right;\">\n",
       "      <th></th>\n",
       "      <th>Desc</th>\n",
       "      <th>MG</th>\n",
       "      <th>L0</th>\n",
       "      <th>L1</th>\n",
       "      <th>L2</th>\n",
       "      <th>Feature</th>\n",
       "    </tr>\n",
       "  </thead>\n",
       "  <tbody>\n",
       "    <tr>\n",
       "      <th>0</th>\n",
       "      <td>BULB, NAV PANEL, 24V, COLLER CODE: BLUE</td>\n",
       "      <td>MEL010000</td>\n",
       "      <td>Electrical &amp; Instrumentation</td>\n",
       "      <td>Electrical</td>\n",
       "      <td>Electrical Control Panels and Control Stations</td>\n",
       "      <td>bulb nav panel coller code blue</td>\n",
       "    </tr>\n",
       "    <tr>\n",
       "      <th>1</th>\n",
       "      <td>BULB, NAV PANEL, 24V, COLLER CODE: GREE</td>\n",
       "      <td>MEL010000</td>\n",
       "      <td>Electrical &amp; Instrumentation</td>\n",
       "      <td>Electrical</td>\n",
       "      <td>Electrical Control Panels and Control Stations</td>\n",
       "      <td>bulb nav panel coller code gree</td>\n",
       "    </tr>\n",
       "    <tr>\n",
       "      <th>2</th>\n",
       "      <td>BULB, NAV PANEL, 24V, COLLER CODE: RED</td>\n",
       "      <td>MEL010000</td>\n",
       "      <td>Electrical &amp; Instrumentation</td>\n",
       "      <td>Electrical</td>\n",
       "      <td>Electrical Control Panels and Control Stations</td>\n",
       "      <td>bulb nav panel coller code red</td>\n",
       "    </tr>\n",
       "    <tr>\n",
       "      <th>3</th>\n",
       "      <td>BULB, NAV PANEL, 24V, COLLER CODE: YELL</td>\n",
       "      <td>MEL010000</td>\n",
       "      <td>Electrical &amp; Instrumentation</td>\n",
       "      <td>Electrical</td>\n",
       "      <td>Electrical Control Panels and Control Stations</td>\n",
       "      <td>bulb nav panel coller code yell</td>\n",
       "    </tr>\n",
       "    <tr>\n",
       "      <th>4</th>\n",
       "      <td>MARINE PANEL , MPCF1-10.4\", (D), STBD</td>\n",
       "      <td>MEL010000</td>\n",
       "      <td>Electrical &amp; Instrumentation</td>\n",
       "      <td>Electrical</td>\n",
       "      <td>Electrical Control Panels and Control Stations</td>\n",
       "      <td>marine panel stbd</td>\n",
       "    </tr>\n",
       "  </tbody>\n",
       "</table>\n",
       "</div>"
      ],
      "text/plain": [
       "                                       Desc         MG  \\\n",
       "0   BULB, NAV PANEL, 24V, COLLER CODE: BLUE  MEL010000   \n",
       "1   BULB, NAV PANEL, 24V, COLLER CODE: GREE  MEL010000   \n",
       "2    BULB, NAV PANEL, 24V, COLLER CODE: RED  MEL010000   \n",
       "3   BULB, NAV PANEL, 24V, COLLER CODE: YELL  MEL010000   \n",
       "4     MARINE PANEL , MPCF1-10.4\", (D), STBD  MEL010000   \n",
       "\n",
       "                             L0          L1  \\\n",
       "0  Electrical & Instrumentation  Electrical   \n",
       "1  Electrical & Instrumentation  Electrical   \n",
       "2  Electrical & Instrumentation  Electrical   \n",
       "3  Electrical & Instrumentation  Electrical   \n",
       "4  Electrical & Instrumentation  Electrical   \n",
       "\n",
       "                                               L2  \\\n",
       "0  Electrical Control Panels and Control Stations   \n",
       "1  Electrical Control Panels and Control Stations   \n",
       "2  Electrical Control Panels and Control Stations   \n",
       "3  Electrical Control Panels and Control Stations   \n",
       "4  Electrical Control Panels and Control Stations   \n",
       "\n",
       "                           Feature  \n",
       "0  bulb nav panel coller code blue  \n",
       "1  bulb nav panel coller code gree  \n",
       "2   bulb nav panel coller code red  \n",
       "3  bulb nav panel coller code yell  \n",
       "4                marine panel stbd  "
      ]
     },
     "execution_count": 49,
     "metadata": {},
     "output_type": "execute_result"
    }
   ],
   "source": [
    "TrainData.head()"
   ]
  },
  {
   "cell_type": "code",
   "execution_count": 50,
   "metadata": {},
   "outputs": [],
   "source": [
    "#Clean = pd.DataFrame(TrainData).to_csv('Clean.csv')"
   ]
  },
  {
   "cell_type": "code",
   "execution_count": 51,
   "metadata": {},
   "outputs": [],
   "source": [
    "from sklearn.model_selection import train_test_split\n",
    "from sklearn.naive_bayes import MultinomialNB\n",
    "from sklearn.tree import DecisionTreeClassifier\n",
    "from sklearn import metrics\n",
    "from sklearn.decomposition import PCA\n",
    "from sklearn.feature_extraction.text import TfidfVectorizer\n",
    "from sklearn.svm import SVC\n",
    "\n",
    "#X_train, X_test, y_train, y_test = train_test_split(TrainData['Feature'], TrainData['L1'],test_size=0.0, random_state = 0)\n",
    "X_train = TrainData['Feature']\n",
    "y_train = TrainData['L1']\n",
    "count_vect = CountVectorizer(stop_words='english')\n",
    "X_train_counts = count_vect.fit_transform(X_train)\n",
    "tfidf_transformer = TfidfTransformer()\n",
    "X_train_tfidf = tfidf_transformer.fit_transform(X_train_counts)\n"
   ]
  },
  {
   "cell_type": "code",
   "execution_count": 52,
   "metadata": {},
   "outputs": [],
   "source": [
    "clf = DecisionTreeClassifier()\n",
    "clf = clf.fit(X_train_tfidf, y_train)"
   ]
  },
  {
   "cell_type": "code",
   "execution_count": 20,
   "metadata": {},
   "outputs": [],
   "source": [
    "svc = SVC(kernel=\"linear\")\n",
    "SVM = svc.fit(X_train_tfidf, y_train)"
   ]
  },
  {
   "cell_type": "code",
   "execution_count": 53,
   "metadata": {},
   "outputs": [
    {
     "data": {
      "text/plain": [
       "(5330, 1715)"
      ]
     },
     "execution_count": 53,
     "metadata": {},
     "output_type": "execute_result"
    }
   ],
   "source": [
    "X_train_counts.shape"
   ]
  },
  {
   "cell_type": "code",
   "execution_count": 22,
   "metadata": {},
   "outputs": [],
   "source": [
    "\n",
    "#y_pred = clf.predict(X_test)"
   ]
  },
  {
   "cell_type": "code",
   "execution_count": 23,
   "metadata": {},
   "outputs": [],
   "source": [
    "#print(\"Accuracy:\",metrics.accuracy_score(y_test, y_pred))"
   ]
  },
  {
   "cell_type": "code",
   "execution_count": 24,
   "metadata": {},
   "outputs": [],
   "source": [
    "#from sklearn.metrics import classification_report, confusion_matrix\n",
    "#print(confusion_matrix(y_test, y_pred))\n",
    "#print(classification_report(y_test, y_pred))"
   ]
  },
  {
   "cell_type": "code",
   "execution_count": 98,
   "metadata": {},
   "outputs": [],
   "source": [
    "\n",
    "Test = pd.read_excel('C:/Users/user/Desktop/Classify/Results/Test_E&I_2016_L1.xlsx')"
   ]
  },
  {
   "cell_type": "code",
   "execution_count": 99,
   "metadata": {},
   "outputs": [],
   "source": [
    "#Test_Filter = Test.loc[Test.L0 != 'NON']"
   ]
  },
  {
   "cell_type": "code",
   "execution_count": 100,
   "metadata": {},
   "outputs": [],
   "source": [
    "col = ['Material/Service Description','L0']\n",
    "Test_data = Test[col]\n",
    "Test_data.rename(columns = {'Material/Service Description' : 'Desc'}, inplace = True)\n",
    "Test_data.head()"
   ]
  },
  {
   "cell_type": "code",
   "execution_count": 103,
   "metadata": {},
   "outputs": [
    {
     "data": {
      "text/plain": [
       "Electrical & Instrumentation    1135\n",
       "Name: L0, dtype: int64"
      ]
     },
     "execution_count": 103,
     "metadata": {},
     "output_type": "execute_result"
    }
   ],
   "source": [
    "Test_data['L0'].value_counts()"
   ]
  },
  {
   "cell_type": "code",
   "execution_count": 104,
   "metadata": {},
   "outputs": [
    {
     "data": {
      "text/html": [
       "<div>\n",
       "<style scoped>\n",
       "    .dataframe tbody tr th:only-of-type {\n",
       "        vertical-align: middle;\n",
       "    }\n",
       "\n",
       "    .dataframe tbody tr th {\n",
       "        vertical-align: top;\n",
       "    }\n",
       "\n",
       "    .dataframe thead th {\n",
       "        text-align: right;\n",
       "    }\n",
       "</style>\n",
       "<table border=\"1\" class=\"dataframe\">\n",
       "  <thead>\n",
       "    <tr style=\"text-align: right;\">\n",
       "      <th></th>\n",
       "      <th>Desc</th>\n",
       "      <th>L0</th>\n",
       "    </tr>\n",
       "  </thead>\n",
       "  <tbody>\n",
       "    <tr>\n",
       "      <th>0</th>\n",
       "      <td>(DO NOT USE)INSTRUMENT-TUBING</td>\n",
       "      <td>Electrical &amp; Instrumentation</td>\n",
       "    </tr>\n",
       "    <tr>\n",
       "      <th>1</th>\n",
       "      <td>(DO NOT USE)INSTRUMENT-FITTINGS</td>\n",
       "      <td>Electrical &amp; Instrumentation</td>\n",
       "    </tr>\n",
       "    <tr>\n",
       "      <th>2</th>\n",
       "      <td>(DO NOT USE)INSTRUMENT-TUBING</td>\n",
       "      <td>Electrical &amp; Instrumentation</td>\n",
       "    </tr>\n",
       "    <tr>\n",
       "      <th>3</th>\n",
       "      <td>(DO NOT USE)INSTRUMENT-TUBING</td>\n",
       "      <td>Electrical &amp; Instrumentation</td>\n",
       "    </tr>\n",
       "    <tr>\n",
       "      <th>4</th>\n",
       "      <td>INSTRUMENT &amp; UTILITY GAS SYSTEMS</td>\n",
       "      <td>Electrical &amp; Instrumentation</td>\n",
       "    </tr>\n",
       "  </tbody>\n",
       "</table>\n",
       "</div>"
      ],
      "text/plain": [
       "                               Desc                            L0\n",
       "0     (DO NOT USE)INSTRUMENT-TUBING  Electrical & Instrumentation\n",
       "1   (DO NOT USE)INSTRUMENT-FITTINGS  Electrical & Instrumentation\n",
       "2     (DO NOT USE)INSTRUMENT-TUBING  Electrical & Instrumentation\n",
       "3     (DO NOT USE)INSTRUMENT-TUBING  Electrical & Instrumentation\n",
       "4  INSTRUMENT & UTILITY GAS SYSTEMS  Electrical & Instrumentation"
      ]
     },
     "execution_count": 104,
     "metadata": {},
     "output_type": "execute_result"
    }
   ],
   "source": [
    "Test_data.head()"
   ]
  },
  {
   "cell_type": "code",
   "execution_count": 105,
   "metadata": {},
   "outputs": [
    {
     "name": "stderr",
     "output_type": "stream",
     "text": [
      "C:\\Users\\user\\AppData\\Roaming\\Python\\Python37\\site-packages\\ipykernel_launcher.py:1: SettingWithCopyWarning: \n",
      "A value is trying to be set on a copy of a slice from a DataFrame.\n",
      "Try using .loc[row_indexer,col_indexer] = value instead\n",
      "\n",
      "See the caveats in the documentation: http://pandas.pydata.org/pandas-docs/stable/indexing.html#indexing-view-versus-copy\n",
      "  \"\"\"Entry point for launching an IPython kernel.\n",
      "C:\\Users\\user\\AppData\\Roaming\\Python\\Python37\\site-packages\\ipykernel_launcher.py:2: SettingWithCopyWarning: \n",
      "A value is trying to be set on a copy of a slice from a DataFrame.\n",
      "Try using .loc[row_indexer,col_indexer] = value instead\n",
      "\n",
      "See the caveats in the documentation: http://pandas.pydata.org/pandas-docs/stable/indexing.html#indexing-view-versus-copy\n",
      "  \n"
     ]
    }
   ],
   "source": [
    "Test_data['Feature'] = Test_data['Desc'].apply(lambda x: clean_str(x))\n",
    "Test_data['Feature'] = Test_data['Feature'].apply(replace_str)"
   ]
  },
  {
   "cell_type": "code",
   "execution_count": 106,
   "metadata": {},
   "outputs": [
    {
     "data": {
      "text/plain": [
       "0                 instrument tubing\n",
       "1               instrument fittings\n",
       "2                 instrument tubing\n",
       "3                 instrument tubing\n",
       "4    instrument utility gas systems\n",
       "Name: Feature, dtype: object"
      ]
     },
     "execution_count": 106,
     "metadata": {},
     "output_type": "execute_result"
    }
   ],
   "source": [
    "Test_data['Feature'].head()"
   ]
  },
  {
   "cell_type": "code",
   "execution_count": 114,
   "metadata": {},
   "outputs": [],
   "source": [
    "#Clean = pd.DataFrame(Test_data).to_csv('C:/Users/user/Desktop/Classify/Results/Clean.csv')"
   ]
  },
  {
   "cell_type": "code",
   "execution_count": 107,
   "metadata": {},
   "outputs": [],
   "source": [
    "X_test = count_vect.transform(Test_data['Feature'])"
   ]
  },
  {
   "cell_type": "code",
   "execution_count": 108,
   "metadata": {},
   "outputs": [],
   "source": [
    "y_pred = clf.predict(X_test)\n",
    "Y_pred = SVM.predict(X_test)"
   ]
  },
  {
   "cell_type": "code",
   "execution_count": 109,
   "metadata": {},
   "outputs": [],
   "source": [
    "Pred = pd.DataFrame(y_pred, columns = ['L1(Tree)'])\n",
    "Result = pd.concat([Test, Pred], axis=1)\n",
    "#prediction = pd.DataFrame(Result).to_excel(\"C:/Users/user/Desktop/Classify/Results/prediction2016Tree.xlsx\")"
   ]
  },
  {
   "cell_type": "code",
   "execution_count": 113,
   "metadata": {},
   "outputs": [],
   "source": [
    "Prediction = pd.DataFrame(Y_pred, columns = ['L1(SVM)'])\n",
    "Results = pd.concat([Result, Prediction], axis=1)\n",
    "predictions = pd.DataFrame(Results).to_excel(\"C:/Users/user/Desktop/Classify/Results/prediction2016L1.xlsx\")"
   ]
  },
  {
   "cell_type": "code",
   "execution_count": null,
   "metadata": {},
   "outputs": [],
   "source": []
  }
 ],
 "metadata": {
  "kernelspec": {
   "display_name": "Python 3",
   "language": "python",
   "name": "python3"
  },
  "language_info": {
   "codemirror_mode": {
    "name": "ipython",
    "version": 3
   },
   "file_extension": ".py",
   "mimetype": "text/x-python",
   "name": "python",
   "nbconvert_exporter": "python",
   "pygments_lexer": "ipython3",
   "version": "3.7.4"
  }
 },
 "nbformat": 4,
 "nbformat_minor": 2
}
