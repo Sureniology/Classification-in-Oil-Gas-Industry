{
 "cells": [
  {
   "cell_type": "markdown",
   "metadata": {},
   "source": [
    "Import packages"
   ]
  },
  {
   "cell_type": "code",
   "execution_count": 1,
   "metadata": {},
   "outputs": [],
   "source": [
    "import pandas as pd\n",
    "import numpy as np\n",
    "import matplotlib.pyplot as plt \n",
    "%matplotlib inline"
   ]
  },
  {
   "cell_type": "markdown",
   "metadata": {},
   "source": [
    "Import Dataset"
   ]
  },
  {
   "cell_type": "code",
   "execution_count": 2,
   "metadata": {},
   "outputs": [
    {
     "name": "stderr",
     "output_type": "stream",
     "text": [
      "C:\\Users\\user\\AppData\\Roaming\\Python\\Python37\\site-packages\\pandas\\util\\_decorators.py:188: FutureWarning: The `sheetname` keyword is deprecated, use `sheet_name` instead\n",
      "  return func(*args, **kwargs)\n"
     ]
    }
   ],
   "source": [
    "df = pd.read_excel(\"C:/Users/user/Desktop/SehVoon/Steel/MasterList.xlsx\", sheetname = \"SAP DATA\" )"
   ]
  },
  {
   "cell_type": "markdown",
   "metadata": {},
   "source": [
    "Review the first 10 rows in the dataset"
   ]
  },
  {
   "cell_type": "code",
   "execution_count": null,
   "metadata": {},
   "outputs": [],
   "source": [
    "df.head(10)"
   ]
  },
  {
   "cell_type": "markdown",
   "metadata": {},
   "source": [
    "Returns tuple of shape (Rows, columns) of dataframe"
   ]
  },
  {
   "cell_type": "code",
   "execution_count": 4,
   "metadata": {},
   "outputs": [
    {
     "data": {
      "text/plain": [
       "(473394, 55)"
      ]
     },
     "execution_count": 4,
     "metadata": {},
     "output_type": "execute_result"
    }
   ],
   "source": [
    "df.shape"
   ]
  },
  {
   "cell_type": "markdown",
   "metadata": {},
   "source": [
    "returns a Series with the data type of each column"
   ]
  },
  {
   "cell_type": "code",
   "execution_count": 5,
   "metadata": {},
   "outputs": [
    {
     "data": {
      "text/plain": [
       "I06: PO  Number- PO Item Number-Service Line Item            object\n",
       "I06: PO Number-PO Item Number                                object\n",
       "I06: PO Number                                                int64\n",
       "I06: PO Item Number                                           int64\n",
       "I06: Service Line Item No                                     int64\n",
       "I06: PO Creation Date                                datetime64[ns]\n",
       "I06: Material Group                                          object\n",
       "I06: Vendor Name                                             object\n",
       "I06: Header Text                                             object\n",
       "I06: Short Text                                              object\n",
       "I06: Item Text                                               object\n",
       "I06: Item Record PO Text                                     object\n",
       "I06: Material PO Text                                        object\n",
       "I06: Service Short Text                                      object\n",
       "I06: Service Text                                            object\n",
       "I06: Line Text                                               object\n",
       "I06: Service Item Deleted                                    object\n",
       "R06: PO Number                                                int64\n",
       "R06: PO Item No                                               int64\n",
       "R06: Service Line Item No                                     int64\n",
       "R06: PO Creation Date                                datetime64[ns]\n",
       "R06: Purchasing Group                                        object\n",
       "R06: Plant                                                   object\n",
       "R06: Buyer Name                                              object\n",
       "R06: Vendor                                                  object\n",
       "R06: Vendor Name                                             object\n",
       "R06: Document Currency                                       object\n",
       "R06: Material Number                                        float64\n",
       "R06: Quantity                                               float64\n",
       "R06: Order Unit                                              object\n",
       "R06: Service Line No                                        float64\n",
       "R06: Gross Value in Document Currency                       float64\n",
       "R06: Gross Value(MYR)                                       float64\n",
       "R06: TransportationCharge(MYR)                              float64\n",
       "R06: Item Discount (MYR)                                    float64\n",
       "R06: Item Value(MYR)                                        float64\n",
       "R19+ME2N: Company Code                                       object\n",
       "R19+ME2N: WBS                                                object\n",
       "R19+ME2N: Cost Center                                        object\n",
       "R19+ME2N: Acct Assignment Cat.                               object\n",
       "Year                                                          int64\n",
       "Internal/External                                            object\n",
       "Project/Operations                                           object\n",
       "Material Group Description                                   object\n",
       "Material Group In Scope                                      object\n",
       "Material/Service Description                                 object\n",
       "L0 Category                                                  object\n",
       "Vendor Country                                               object\n",
       "Vendor Location                                              object\n",
       "Plant Name                                                   object\n",
       "Biz L1                                                       object\n",
       "Plant Location                                               object\n",
       "Unnamed: 52                                                 float64\n",
       "SAP Field                                                   float64\n",
       "Derived Field                                               float64\n",
       "dtype: object"
      ]
     },
     "execution_count": 5,
     "metadata": {},
     "output_type": "execute_result"
    }
   ],
   "source": [
    "df.dtypes"
   ]
  },
  {
   "cell_type": "markdown",
   "metadata": {},
   "source": [
    "Select the columns that are related from the dataset and view the first 10 rows"
   ]
  },
  {
   "cell_type": "code",
   "execution_count": 6,
   "metadata": {},
   "outputs": [],
   "source": [
    "Data = df[[\"I06: PO Creation Date\", \"I06: Vendor Name\",\"R06: Item Value(MYR)\"]]"
   ]
  },
  {
   "cell_type": "code",
   "execution_count": null,
   "metadata": {},
   "outputs": [],
   "source": [
    "Data.head(10)"
   ]
  },
  {
   "cell_type": "markdown",
   "metadata": {},
   "source": [
    "Rename the columns"
   ]
  },
  {
   "cell_type": "code",
   "execution_count": 8,
   "metadata": {},
   "outputs": [],
   "source": [
    "Data = Data.rename(columns = {'I06: PO Creation Date':'Date','I06: Vendor Name':'Vendor_Name','R06: Item Value(MYR)':'Value(MYR)'})"
   ]
  },
  {
   "cell_type": "markdown",
   "metadata": {},
   "source": [
    "Choose the desire date range of the dataset"
   ]
  },
  {
   "cell_type": "code",
   "execution_count": 9,
   "metadata": {},
   "outputs": [],
   "source": [
    "Data1 = (Data['Date'] >= '2018-01-01') & (Data['Date'] <= '2019-12-12')"
   ]
  },
  {
   "cell_type": "code",
   "execution_count": 10,
   "metadata": {},
   "outputs": [],
   "source": [
    "Vendor = Data.loc[Data1]"
   ]
  },
  {
   "cell_type": "markdown",
   "metadata": {},
   "source": [
    "All the alphabets in the Dataset are translated to uppercase."
   ]
  },
  {
   "cell_type": "code",
   "execution_count": 11,
   "metadata": {},
   "outputs": [
    {
     "name": "stderr",
     "output_type": "stream",
     "text": [
      "C:\\Users\\user\\Anaconda3\\lib\\site-packages\\ipykernel_launcher.py:1: SettingWithCopyWarning: \n",
      "A value is trying to be set on a copy of a slice from a DataFrame.\n",
      "Try using .loc[row_indexer,col_indexer] = value instead\n",
      "\n",
      "See the caveats in the documentation: http://pandas.pydata.org/pandas-docs/stable/indexing.html#indexing-view-versus-copy\n",
      "  \"\"\"Entry point for launching an IPython kernel.\n"
     ]
    }
   ],
   "source": [
    "Vendor['Vendor Name'] = Vendor['Vendor_Name'].str.upper()"
   ]
  },
  {
   "cell_type": "markdown",
   "metadata": {},
   "source": [
    "Top 10 vendors with highest Value(MYR) are calculated"
   ]
  },
  {
   "cell_type": "code",
   "execution_count": 12,
   "metadata": {},
   "outputs": [],
   "source": [
    "Top_10_Vendor = Vendor.groupby([\"Vendor_Name\"]).sum().sort_values(\"Value(MYR)\").nlargest(10, ['Value(MYR)'])"
   ]
  },
  {
   "cell_type": "markdown",
   "metadata": {},
   "source": [
    "Change the number format to no decimal places"
   ]
  },
  {
   "cell_type": "code",
   "execution_count": 14,
   "metadata": {},
   "outputs": [],
   "source": [
    "pd.options.display.float_format = '{:,.0f}'.format"
   ]
  },
  {
   "cell_type": "code",
   "execution_count": null,
   "metadata": {},
   "outputs": [],
   "source": [
    "Top_10_Vendor"
   ]
  },
  {
   "cell_type": "markdown",
   "metadata": {},
   "source": [
    "Filter only selected Vendors with accumulated Value(MYR)"
   ]
  },
  {
   "cell_type": "code",
   "execution_count": 16,
   "metadata": {},
   "outputs": [],
   "source": [
    "filter_list = [\"INTERGLEN SDN BHD\",\"INSULTEC DURAGATE SDN BHD\",\"RM LEOPAD SDN BHD\",\"LEEDEN SDN BHD\"]\n",
    "\n"
   ]
  },
  {
   "cell_type": "code",
   "execution_count": 17,
   "metadata": {},
   "outputs": [],
   "source": [
    "JO = Vendor[Vendor.Vendor_Name.isin(filter_list)]"
   ]
  },
  {
   "cell_type": "code",
   "execution_count": 18,
   "metadata": {},
   "outputs": [],
   "source": [
    "Selected_Vendor = JO.groupby([\"Vendor_Name\"]).sum().sort_values(\"Value(MYR)\")"
   ]
  },
  {
   "cell_type": "code",
   "execution_count": null,
   "metadata": {},
   "outputs": [],
   "source": [
    "Selected_Vendor"
   ]
  },
  {
   "cell_type": "code",
   "execution_count": null,
   "metadata": {},
   "outputs": [],
   "source": []
  }
 ],
 "metadata": {
  "kernelspec": {
   "display_name": "Python 3",
   "language": "python",
   "name": "python3"
  },
  "language_info": {
   "codemirror_mode": {
    "name": "ipython",
    "version": 3
   },
   "file_extension": ".py",
   "mimetype": "text/x-python",
   "name": "python",
   "nbconvert_exporter": "python",
   "pygments_lexer": "ipython3",
   "version": "3.7.1"
  }
 },
 "nbformat": 4,
 "nbformat_minor": 2
}
