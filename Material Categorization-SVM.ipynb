{
 "cells": [
  {
   "cell_type": "code",
   "execution_count": 75,
   "metadata": {},
   "outputs": [],
   "source": [
    "import numpy as np\n",
    "import pandas as pd\n",
    "from sklearn.feature_extraction.text import CountVectorizer\n",
    "from sklearn.feature_extraction.text import TfidfTransformer\n",
    "import nltk\n",
    "#nltk.download()\n"
   ]
  },
  {
   "cell_type": "code",
   "execution_count": 122,
   "metadata": {},
   "outputs": [],
   "source": [
    "Data = pd.read_csv(\"T.csv\", sep='|' , delimiter=',' ,encoding='latin-1')"
   ]
  },
  {
   "cell_type": "code",
   "execution_count": 123,
   "metadata": {},
   "outputs": [],
   "source": [
    "col = ['Material/Service Description','I06: Material Group','L0','L1','L2']"
   ]
  },
  {
   "cell_type": "code",
   "execution_count": 124,
   "metadata": {},
   "outputs": [],
   "source": [
    "Train_data = Data[col]"
   ]
  },
  {
   "cell_type": "code",
   "execution_count": 125,
   "metadata": {},
   "outputs": [
    {
     "name": "stderr",
     "output_type": "stream",
     "text": [
      "C:\\Users\\user\\AppData\\Roaming\\Python\\Python37\\site-packages\\pandas\\core\\frame.py:4025: SettingWithCopyWarning: \n",
      "A value is trying to be set on a copy of a slice from a DataFrame\n",
      "\n",
      "See the caveats in the documentation: http://pandas.pydata.org/pandas-docs/stable/indexing.html#indexing-view-versus-copy\n",
      "  return super(DataFrame, self).rename(**kwargs)\n"
     ]
    }
   ],
   "source": [
    "Train_data.rename(columns = {'Material/Service Description' : 'Desc', 'I06: Material Group' : 'MG'}, inplace = True)"
   ]
  },
  {
   "cell_type": "code",
   "execution_count": 126,
   "metadata": {},
   "outputs": [
    {
     "data": {
      "text/html": [
       "<div>\n",
       "<style scoped>\n",
       "    .dataframe tbody tr th:only-of-type {\n",
       "        vertical-align: middle;\n",
       "    }\n",
       "\n",
       "    .dataframe tbody tr th {\n",
       "        vertical-align: top;\n",
       "    }\n",
       "\n",
       "    .dataframe thead th {\n",
       "        text-align: right;\n",
       "    }\n",
       "</style>\n",
       "<table border=\"1\" class=\"dataframe\">\n",
       "  <thead>\n",
       "    <tr style=\"text-align: right;\">\n",
       "      <th></th>\n",
       "      <th>Desc</th>\n",
       "      <th>MG</th>\n",
       "      <th>L0</th>\n",
       "      <th>L1</th>\n",
       "      <th>L2</th>\n",
       "    </tr>\n",
       "  </thead>\n",
       "  <tbody>\n",
       "    <tr>\n",
       "      <th>0</th>\n",
       "      <td>POWERMODULE,24V/125A,CATHELCO,8020110103</td>\n",
       "      <td>MEL010000</td>\n",
       "      <td>Electrical &amp; Instrumentation</td>\n",
       "      <td>Electrical</td>\n",
       "      <td>Electrical Accessories</td>\n",
       "    </tr>\n",
       "    <tr>\n",
       "      <th>1</th>\n",
       "      <td>PLUG,POWER, RED,16A,380-415V,RS,190-3001</td>\n",
       "      <td>MEL010000</td>\n",
       "      <td>Electrical &amp; Instrumentation</td>\n",
       "      <td>Electrical</td>\n",
       "      <td>Electrical Accessories</td>\n",
       "    </tr>\n",
       "    <tr>\n",
       "      <th>2</th>\n",
       "      <td>PLUG, ELECTRICAL, 1PH, 230V, EX</td>\n",
       "      <td>MEL010000</td>\n",
       "      <td>Electrical &amp; Instrumentation</td>\n",
       "      <td>Electrical</td>\n",
       "      <td>Electrical Accessories</td>\n",
       "    </tr>\n",
       "    <tr>\n",
       "      <th>3</th>\n",
       "      <td>PLUG, ELECTRICAL, 1PH, 230V, EX</td>\n",
       "      <td>MEL010000</td>\n",
       "      <td>Electrical &amp; Instrumentation</td>\n",
       "      <td>Electrical</td>\n",
       "      <td>Electrical Accessories</td>\n",
       "    </tr>\n",
       "    <tr>\n",
       "      <th>4</th>\n",
       "      <td>PLUG, ELECTRICAL, 1PH, 230V, EX</td>\n",
       "      <td>MEL010000</td>\n",
       "      <td>Electrical &amp; Instrumentation</td>\n",
       "      <td>Electrical</td>\n",
       "      <td>Electrical Accessories</td>\n",
       "    </tr>\n",
       "  </tbody>\n",
       "</table>\n",
       "</div>"
      ],
      "text/plain": [
       "                                       Desc         MG  \\\n",
       "0  POWERMODULE,24V/125A,CATHELCO,8020110103  MEL010000   \n",
       "1  PLUG,POWER, RED,16A,380-415V,RS,190-3001  MEL010000   \n",
       "2           PLUG, ELECTRICAL, 1PH, 230V, EX  MEL010000   \n",
       "3           PLUG, ELECTRICAL, 1PH, 230V, EX  MEL010000   \n",
       "4           PLUG, ELECTRICAL, 1PH, 230V, EX  MEL010000   \n",
       "\n",
       "                             L0          L1                      L2  \n",
       "0  Electrical & Instrumentation  Electrical  Electrical Accessories  \n",
       "1  Electrical & Instrumentation  Electrical  Electrical Accessories  \n",
       "2  Electrical & Instrumentation  Electrical  Electrical Accessories  \n",
       "3  Electrical & Instrumentation  Electrical  Electrical Accessories  \n",
       "4  Electrical & Instrumentation  Electrical  Electrical Accessories  "
      ]
     },
     "execution_count": 126,
     "metadata": {},
     "output_type": "execute_result"
    }
   ],
   "source": [
    "Train_data.head()"
   ]
  },
  {
   "cell_type": "code",
   "execution_count": 127,
   "metadata": {},
   "outputs": [
    {
     "data": {
      "text/plain": [
       "Electrical         2042\n",
       "E&I Bulk           1493\n",
       "Instrumentation     546\n",
       "Name: L1, dtype: int64"
      ]
     },
     "execution_count": 127,
     "metadata": {},
     "output_type": "execute_result"
    }
   ],
   "source": [
    "Train_data[\"L1\"].value_counts()"
   ]
  },
  {
   "cell_type": "code",
   "execution_count": 128,
   "metadata": {},
   "outputs": [],
   "source": [
    "TrainData = Train_data.loc[Train_data.L1 == 'E&I Bulk']"
   ]
  },
  {
   "cell_type": "code",
   "execution_count": 129,
   "metadata": {},
   "outputs": [],
   "source": [
    "#TrainData"
   ]
  },
  {
   "cell_type": "code",
   "execution_count": 130,
   "metadata": {},
   "outputs": [
    {
     "data": {
      "text/plain": [
       "Cables, Cords and Wires                438\n",
       "Cable Racks, Trays and Ladders         414\n",
       "Switches and Control Equipment         323\n",
       "Transits and Glands                    231\n",
       "Instrument Tubing and Fittings          73\n",
       "Instrument and Communication Cables     14\n",
       "Name: L2, dtype: int64"
      ]
     },
     "execution_count": 130,
     "metadata": {},
     "output_type": "execute_result"
    }
   ],
   "source": [
    "TrainData[\"L1\"].value_counts()\n",
    "TrainData[\"L2\"].value_counts()"
   ]
  },
  {
   "cell_type": "code",
   "execution_count": 131,
   "metadata": {},
   "outputs": [],
   "source": [
    "import re\n",
    "def clean_str(string):\n",
    "    string = re.sub(r\"\\n\",\"\", string)\n",
    "    string = re.sub(r\"\\r\", \"\", string)\n",
    "    #string = re.sub(r\"[0-9]\",\"digit\", string)\n",
    "    string = re.sub(r\"\\'\", \" \", string)\n",
    "    string = re.sub(r\"\\\"\", \" \", string)\n",
    "    string = re.sub(r'\\(.*?\\)', '', string)\n",
    "    string = re.sub(r\"/\", \" \", string)\n",
    "    string = re.sub(r\":\", \" \", string)\n",
    "    string = re.sub(r\"-\", \" \", string)\n",
    "    string = re.sub(r\",\", \" \", string)\n",
    "    string = re.sub(r\"\\+\", \" \", string)\n",
    "    string = re.sub(r\"&\",\" \", string)\n",
    "    string = re.sub(r\"#\",\" \", string)\n",
    "    string = re.sub(r\"\\.\",\" \", string)\n",
    "    string = re.sub(r\"\\b\\w+\\d+\\b\",\" \", string)\n",
    "    string = re.sub(r\"\\b\\d+\\w+\\b\",\" \", string)\n",
    "    string = re.sub(r\"\\b\\w+\\d+\\w+\\b\",\" \", string)\n",
    "    string = re.sub(r\"[0-9]\",\"\", string)\n",
    "    string = re.sub(r\"\\\\b[A-Za-z] \\\\b|\\\\b [A-Za-z]\\\\b\", ' ', string)\n",
    "    string = re.sub(r'\\b\\w\\b', '', string)\n",
    "    string = re.sub(r'\\b\\w\\w\\b', '', string)\n",
    "    string = re.sub(r'\" \"', '', string)\n",
    "    string = re.sub(' +', ' ', string)\n",
    "    #string = re.sub('cons\\s', \"consumables \" \" \", str)\n",
    "    return string.strip().lower()\n"
   ]
  },
  {
   "cell_type": "code",
   "execution_count": 132,
   "metadata": {},
   "outputs": [
    {
     "name": "stderr",
     "output_type": "stream",
     "text": [
      "C:\\Users\\user\\AppData\\Roaming\\Python\\Python37\\site-packages\\ipykernel_launcher.py:1: SettingWithCopyWarning: \n",
      "A value is trying to be set on a copy of a slice from a DataFrame.\n",
      "Try using .loc[row_indexer,col_indexer] = value instead\n",
      "\n",
      "See the caveats in the documentation: http://pandas.pydata.org/pandas-docs/stable/indexing.html#indexing-view-versus-copy\n",
      "  \"\"\"Entry point for launching an IPython kernel.\n"
     ]
    }
   ],
   "source": [
    "TrainData['Feature'] = TrainData['Desc'].apply(lambda x: clean_str(x))"
   ]
  },
  {
   "cell_type": "code",
   "execution_count": 133,
   "metadata": {},
   "outputs": [],
   "source": [
    "def replace_str(string):\n",
    "    string = re.sub(\"cons\\s\", \"consumables \" \" \", string)\n",
    "    string = re.sub(\"chem\\s\", \"chemicals \" \" \", string)\n",
    "    string = re.sub(\"geotech\\s\", \"geotechnical\" \" \", string)\n",
    "    string = re.sub(\"test\\s\", \"testing \" \" \", string)\n",
    "    string = re.sub(\"inst\\s\", \"instrument \" \" \", string)\n",
    "    string = re.sub(\"transport\\s\", \"transportation \" \" \", string)\n",
    "    string = re.sub(\"rig\\s\", \"rigging \" \" \", string)\n",
    "    string = re.sub(\"lift\\s\", \"lifting \" \" \", string)\n",
    "    string = re.sub(\"cables\\s\", \"cable  \" \" \",     string)\n",
    "    string = re.sub(\"fittin\\s\", \"fittings \" \" \", string)\n",
    "    string = re.sub(\"peri\\s\", \"peripherals \" \" \", string)\n",
    "    string = re.sub(r'\" \"', '', string)\n",
    "   \n",
    "    return string.strip().lower()"
   ]
  },
  {
   "cell_type": "code",
   "execution_count": 134,
   "metadata": {},
   "outputs": [
    {
     "name": "stderr",
     "output_type": "stream",
     "text": [
      "C:\\Users\\user\\AppData\\Roaming\\Python\\Python37\\site-packages\\ipykernel_launcher.py:1: SettingWithCopyWarning: \n",
      "A value is trying to be set on a copy of a slice from a DataFrame.\n",
      "Try using .loc[row_indexer,col_indexer] = value instead\n",
      "\n",
      "See the caveats in the documentation: http://pandas.pydata.org/pandas-docs/stable/indexing.html#indexing-view-versus-copy\n",
      "  \"\"\"Entry point for launching an IPython kernel.\n"
     ]
    }
   ],
   "source": [
    "TrainData['Feature'] = TrainData['Feature'].apply(replace_str)"
   ]
  },
  {
   "cell_type": "code",
   "execution_count": 135,
   "metadata": {},
   "outputs": [],
   "source": [
    "#TrainData"
   ]
  },
  {
   "cell_type": "code",
   "execution_count": 136,
   "metadata": {},
   "outputs": [],
   "source": [
    "#Clean = pd.DataFrame(TrainData).to_csv('Clean.csv')"
   ]
  },
  {
   "cell_type": "code",
   "execution_count": 137,
   "metadata": {},
   "outputs": [],
   "source": [
    "from sklearn.model_selection import train_test_split\n",
    "from sklearn.svm import SVC\n",
    "from sklearn import metrics\n",
    "from sklearn.feature_extraction.text import TfidfVectorizer\n",
    "\n",
    "X_train, X_test, y_train, y_test = train_test_split(TrainData['Feature'], TrainData['L2'],test_size=0.3, random_state = 2)\n",
    "count_vect = CountVectorizer(ngram_range=(1, 2), stop_words='english')\n",
    "X_train_counts = count_vect.fit_transform(X_train)\n",
    "tfidf_transformer = TfidfTransformer()\n",
    "X_train_tfidf = tfidf_transformer.fit_transform(X_train_counts)\n",
    "X_test = count_vect.transform(X_test)"
   ]
  },
  {
   "cell_type": "code",
   "execution_count": 143,
   "metadata": {},
   "outputs": [
    {
     "name": "stderr",
     "output_type": "stream",
     "text": [
      "C:\\Users\\user\\AppData\\Roaming\\Python\\Python37\\site-packages\\sklearn\\svm\\base.py:193: FutureWarning: The default value of gamma will change from 'auto' to 'scale' in version 0.22 to account better for unscaled features. Set gamma explicitly to 'auto' or 'scale' to avoid this warning.\n",
      "  \"avoid this warning.\", FutureWarning)\n"
     ]
    }
   ],
   "source": [
    "svc = SVC()\n",
    "clf = svc.fit(X_train_tfidf, y_train)\n",
    "y_pred = clf.predict(X_test)"
   ]
  },
  {
   "cell_type": "code",
   "execution_count": 144,
   "metadata": {},
   "outputs": [
    {
     "name": "stdout",
     "output_type": "stream",
     "text": [
      "Accuracy: 0.29017857142857145\n"
     ]
    }
   ],
   "source": [
    "print(\"Accuracy:\",metrics.accuracy_score(y_test, y_pred))"
   ]
  },
  {
   "cell_type": "code",
   "execution_count": 145,
   "metadata": {},
   "outputs": [
    {
     "name": "stdout",
     "output_type": "stream",
     "text": [
      "[[  0 130   0   0   0   0]\n",
      " [  0 130   0   0   0   0]\n",
      " [  0  21   0   0   0   0]\n",
      " [  0   4   0   0   0   0]\n",
      " [  0  97   0   0   0   0]\n",
      " [  0  66   0   0   0   0]]\n",
      "                                     precision    recall  f1-score   support\n",
      "\n",
      "     Cable Racks, Trays and Ladders       0.00      0.00      0.00       130\n",
      "            Cables, Cords and Wires       0.29      1.00      0.45       130\n",
      "     Instrument Tubing and Fittings       0.00      0.00      0.00        21\n",
      "Instrument and Communication Cables       0.00      0.00      0.00         4\n",
      "     Switches and Control Equipment       0.00      0.00      0.00        97\n",
      "                Transits and Glands       0.00      0.00      0.00        66\n",
      "\n",
      "                           accuracy                           0.29       448\n",
      "                          macro avg       0.05      0.17      0.07       448\n",
      "                       weighted avg       0.08      0.29      0.13       448\n",
      "\n"
     ]
    },
    {
     "name": "stderr",
     "output_type": "stream",
     "text": [
      "C:\\Users\\user\\AppData\\Roaming\\Python\\Python37\\site-packages\\sklearn\\metrics\\classification.py:1437: UndefinedMetricWarning: Precision and F-score are ill-defined and being set to 0.0 in labels with no predicted samples.\n",
      "  'precision', 'predicted', average, warn_for)\n"
     ]
    }
   ],
   "source": [
    "from sklearn.metrics import classification_report, confusion_matrix\n",
    "print(confusion_matrix(y_test, y_pred))\n",
    "print(classification_report(y_test, y_pred))"
   ]
  },
  {
   "cell_type": "code",
   "execution_count": null,
   "metadata": {},
   "outputs": [],
   "source": []
  },
  {
   "cell_type": "code",
   "execution_count": null,
   "metadata": {},
   "outputs": [],
   "source": []
  }
 ],
 "metadata": {
  "kernelspec": {
   "display_name": "Python 3",
   "language": "python",
   "name": "python3"
  },
  "language_info": {
   "codemirror_mode": {
    "name": "ipython",
    "version": 3
   },
   "file_extension": ".py",
   "mimetype": "text/x-python",
   "name": "python",
   "nbconvert_exporter": "python",
   "pygments_lexer": "ipython3",
   "version": "3.7.4"
  }
 },
 "nbformat": 4,
 "nbformat_minor": 2
}
